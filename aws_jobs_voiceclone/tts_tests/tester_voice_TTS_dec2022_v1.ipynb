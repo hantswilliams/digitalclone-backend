{
  "cells": [
    {
      "cell_type": "code",
      "execution_count": null,
      "metadata": {
        "colab": {
          "base_uri": "https://localhost:8080/"
        },
        "id": "EUa7Evm7DKCY",
        "outputId": "5b808795-f441-44d2-d29a-c8099588e6fa"
      },
      "outputs": [],
      "source": [
        "!pip install tts"
      ]
    },
    {
      "cell_type": "code",
      "execution_count": null,
      "metadata": {
        "id": "KRBYjNFhDMBg"
      },
      "outputs": [],
      "source": [
        "!tts"
      ]
    },
    {
      "cell_type": "code",
      "execution_count": null,
      "metadata": {
        "id": "nTJ3CTwGDkFg"
      },
      "outputs": [],
      "source": [
        "from TTS.tts.configs.shared_configs import BaseDatasetConfig\n",
        "from TTS.config.shared_configs import BaseAudioConfig\n",
        "from TTS.utils.audio import AudioProcessor\n",
        "from TTS.tts.utils.text.tokenizer import TTSTokenizer\n",
        "from TTS.tts.models.vits import Vits\n",
        "from TTS.tts.configs.vits_config import VitsConfig\n",
        "from trainer import Trainer, TrainerArgs\n",
        "from TTS.tts.datasets import load_tts_samples"
      ]
    },
    {
      "cell_type": "code",
      "execution_count": null,
      "metadata": {
        "id": "fgGJ_V2aKXk9"
      },
      "outputs": [],
      "source": [
        "import os"
      ]
    },
    {
      "cell_type": "code",
      "execution_count": null,
      "metadata": {
        "colab": {
          "base_uri": "https://localhost:8080/"
        },
        "id": "5pyldHtkDpAD",
        "outputId": "428ebb26-aed9-4e14-a6bb-dd0bc5647854"
      },
      "outputs": [],
      "source": [
        "!git clone https://github.com/hantswilliams/digitalclone-backend.git"
      ]
    },
    {
      "cell_type": "code",
      "execution_count": null,
      "metadata": {
        "colab": {
          "base_uri": "https://localhost:8080/"
        },
        "id": "hdU7Q4npDvYW",
        "outputId": "888b7583-2c54-407d-83ca-5bbb6e3242c5"
      },
      "outputs": [],
      "source": [
        "!cd digitalclone-backend/ && git pull"
      ]
    },
    {
      "cell_type": "code",
      "execution_count": null,
      "metadata": {
        "id": "_TWFBSCTIQ_3"
      },
      "outputs": [],
      "source": [
        "location_metaData = \"/content/digitalclone-backend/aws_jobs_voiceclone/tts_tests/testdatasets2/metaData_list_all.txt\"\n",
        "dataset_path_raw = \"/content/digitalclone-backend/aws_jobs_voiceclone/tts_tests/testdatasets2/raw/\"\n",
        "dataset_path_clean = \"/content/digitalclone-backend/aws_jobs_voiceclone/tts_tests/testdatasets2/clean/\"\n",
        "output_path = \"/content/trainoutput\""
      ]
    },
    {
      "cell_type": "code",
      "execution_count": null,
      "metadata": {
        "colab": {
          "base_uri": "https://localhost:8080/"
        },
        "id": "6q77_fwOKQuB",
        "outputId": "990db852-1965-4bfa-f93e-b037f51257c2"
      },
      "outputs": [],
      "source": [
        "# get list of files in audiofiles/wavs\n",
        "audiofiles_raw = os.listdir(dataset_path_raw)\n",
        "print('audiofiles...:', audiofiles_raw)\n"
      ]
    },
    {
      "cell_type": "code",
      "execution_count": null,
      "metadata": {
        "colab": {
          "base_uri": "https://localhost:8080/"
        },
        "id": "Jiy1ksGiKbwe",
        "outputId": "b76fbfc5-13a1-4118-b815-64bb5a0fd78a"
      },
      "outputs": [],
      "source": [
        "# loop through each file in audiofiles/wavs and convert to 22050\n",
        "for file in audiofiles_raw:\n",
        "    # get file name\n",
        "    filename = file.split(\".\")[0]\n",
        "    # get file extension\n",
        "    fileext = file.split(\".\")[1]\n",
        "    # create command to convert file to 22050\n",
        "    command = \"ffmpeg -i \" + dataset_path_raw + \"/\" + file + \" -ar 16000 -ac 1 \" + dataset_path_clean + \"/\" + filename + fileext + \" -y\"\n",
        "    # run command\n",
        "    os.system(command)\n",
        "    # print\n",
        "    print(\"converted \" + file + \" to 16000\")"
      ]
    },
    {
      "cell_type": "code",
      "execution_count": null,
      "metadata": {
        "id": "Q78X08hUKiRB"
      },
      "outputs": [],
      "source": [
        "tpower = 1.3\n",
        "tpreemphasis = 0.98\n",
        "tdb = 20\n",
        "######################\n",
        "\n",
        "\n",
        "dataset_config = BaseDatasetConfig(\n",
        "    formatter=\"ljspeech\", meta_file_train='metaData_list1_1664477626975..txt', path=os.path.join(output_path, dataset_path)\n",
        ")\n",
        "\n",
        "audio_config = BaseAudioConfig(\n",
        "    sample_rate=16000, \n",
        "    win_length=1024, \n",
        "    hop_length=256, \n",
        "    num_mels=80, \n",
        "    mel_fmin=0, \n",
        "    mel_fmax=None, \n",
        "    power=tpower,\n",
        "    preemphasis=tpreemphasis,\n",
        "    ref_level_db=tdb\n",
        ")\n",
        "\n",
        "config = VitsConfig(\n",
        "    audio=audio_config,\n",
        "    run_name=\"vits_ljspeech\",\n",
        "    batch_size=32,\n",
        "    eval_batch_size=16,\n",
        "    batch_group_size=5,\n",
        "    num_loader_workers=8,\n",
        "    num_eval_loader_workers=4,\n",
        "    run_eval=True,\n",
        "    test_delay_epochs=-1,\n",
        "    epochs=1000,\n",
        "    text_cleaner=\"english_cleaners\",\n",
        "    use_phonemes=True,\n",
        "    phoneme_language=\"en-us\",\n",
        "    phoneme_cache_path=os.path.join(output_path, \"phoneme_cache\"),\n",
        "    compute_input_seq_cache=True,\n",
        "    print_step=25,\n",
        "    print_eval=True,\n",
        "    mixed_precision=True,\n",
        "    output_path=output_path,\n",
        "    datasets=[dataset_config],\n",
        "    cudnn_benchmark=False\n",
        ")"
      ]
    },
    {
      "cell_type": "code",
      "execution_count": null,
      "metadata": {
        "colab": {
          "base_uri": "https://localhost:8080/"
        },
        "id": "WsAHcms4Kmpi",
        "outputId": "6753d8f2-17e4-432d-e833-a706ab901ca2"
      },
      "outputs": [],
      "source": [
        "train_samples, eval_samples = load_tts_samples(\n",
        "    dataset_config,\n",
        "    eval_split=True,\n",
        "    eval_split_max_size=config.eval_split_max_size,\n",
        "    # eval_split_size=config.eval_split_size\n",
        "    eval_split_size=0.1\n",
        ")\n",
        "\n",
        "ap = AudioProcessor.init_from_config(config)\n",
        "tokenizer, config = TTSTokenizer.init_from_config(config)\n",
        "model = Vits(config, ap, tokenizer, speaker_manager=None)"
      ]
    },
    {
      "cell_type": "code",
      "execution_count": null,
      "metadata": {
        "colab": {
          "base_uri": "https://localhost:8080/"
        },
        "id": "COMBB1P1K8fx",
        "outputId": "b9e465f5-e96b-497d-ab54-2a93f644c9e8"
      },
      "outputs": [],
      "source": [
        "trainer = Trainer(\n",
        "    TrainerArgs(), config, output_path, model=model, train_samples=train_samples, eval_samples=eval_samples\n",
        ")\n",
        "\n",
        "trainer.fit()"
      ]
    },
    {
      "cell_type": "code",
      "execution_count": null,
      "metadata": {
        "id": "lrLe0m9ELwWp"
      },
      "outputs": [],
      "source": [
        "## test it!"
      ]
    },
    {
      "cell_type": "code",
      "execution_count": null,
      "metadata": {
        "colab": {
          "base_uri": "https://localhost:8080/"
        },
        "id": "88nFU7l8Wpdt",
        "outputId": "14ad2050-59f1-40c2-924c-f0ed20e86182"
      },
      "outputs": [],
      "source": [
        "!tts --text \"this is my new voice, lets see how it works. Maybe it does not sound like me.\" \\\n",
        "      --model_path '/content/trainoutput/vits_ljspeech-December-11-2022_03+09PM-0000000/best_model_907.pth' \\\n",
        "      --config_path '/content/trainoutput/vits_ljspeech-December-11-2022_03+09PM-0000000/config.json' \\\n",
        "      --out_path 'out.wav'"
      ]
    },
    {
      "cell_type": "code",
      "execution_count": null,
      "metadata": {
        "id": "XPqSkGyoXSQg"
      },
      "outputs": [],
      "source": []
    }
  ],
  "metadata": {
    "accelerator": "GPU",
    "colab": {
      "machine_shape": "hm",
      "provenance": []
    },
    "gpuClass": "premium",
    "kernelspec": {
      "display_name": "Python 3.10.0 64-bit ('3.10.0')",
      "language": "python",
      "name": "python3"
    },
    "language_info": {
      "name": "python",
      "version": "3.10.0"
    },
    "vscode": {
      "interpreter": {
        "hash": "a5a4724f03e3568cd1cf481694d37f5ccbbd850c172cad9556ffa1f6fa76a86d"
      }
    }
  },
  "nbformat": 4,
  "nbformat_minor": 0
}
