{
  "cells": [
    {
      "attachments": {},
      "cell_type": "markdown",
      "metadata": {},
      "source": [
        "# notes: TESTING \n",
        "- before running, be sure to have run through the quality.py file that exists in the digitalclone-backend to go through and convert the file types, and remove the white noise \n",
        "- the main folder which contains the output - ready files should be: \n",
        "    - `..../digitalclone-backend/aws_jobs_voiceclone/tts_tests/testdata2/clean_quality` \n",
        "\n",
        "## trying on dec 28 2022 \n",
        "- with a few hundred audio samples from < 100 and > 200 \n",
        "- 176 audio samples\n"
      ]
    },
    {
      "cell_type": "code",
      "execution_count": null,
      "metadata": {
        "colab": {
          "base_uri": "https://localhost:8080/"
        },
        "id": "x9Hk2GKtVZoH",
        "outputId": "06c60042-6697-4d32-b478-5de65ded7ec6"
      },
      "outputs": [],
      "source": [
        "from google.colab import drive\n",
        "drive.mount('/content/drive')"
      ]
    },
    {
      "cell_type": "code",
      "execution_count": null,
      "metadata": {},
      "outputs": [],
      "source": [
        "import os\n",
        "!git clone https://github.com/hantswilliams/digitalclone-backend.git\n",
        "!cd digitalclone-backend/ && git pull"
      ]
    },
    {
      "cell_type": "code",
      "execution_count": null,
      "metadata": {
        "colab": {
          "base_uri": "https://localhost:8080/"
        },
        "id": "EUa7Evm7DKCY",
        "outputId": "d4c05255-1a90-4191-8c8e-1ca49f4f8259"
      },
      "outputs": [],
      "source": [
        "!pip install tts\n",
        "!tts"
      ]
    },
    {
      "cell_type": "code",
      "execution_count": null,
      "metadata": {
        "id": "nTJ3CTwGDkFg"
      },
      "outputs": [],
      "source": [
        "from TTS.tts.configs.shared_configs import BaseDatasetConfig\n",
        "from TTS.config.shared_configs import BaseAudioConfig\n",
        "from TTS.utils.audio import AudioProcessor\n",
        "from TTS.tts.utils.text.tokenizer import TTSTokenizer\n",
        "from TTS.tts.models.vits import Vits\n",
        "from TTS.tts.configs.vits_config import VitsConfig\n",
        "from trainer import Trainer, TrainerArgs\n",
        "from TTS.tts.datasets import load_tts_samples"
      ]
    },
    {
      "cell_type": "code",
      "execution_count": null,
      "metadata": {
        "id": "_TWFBSCTIQ_3"
      },
      "outputs": [],
      "source": [
        "location_metaData = \"/content/digitalclone-backend/aws_jobs_voiceclone/tts_tests/testdata2/metaData_list_all.txt\"\n",
        "dataset_path = \"/content/digitalclone-backend/aws_jobs_voiceclone/tts_tests/testdata2/clean_quality/\"\n",
        "output_path = \"/content/drive/MyDrive/VoiceCloning/output\""
      ]
    },
    {
      "cell_type": "code",
      "execution_count": null,
      "metadata": {
        "id": "Q78X08hUKiRB"
      },
      "outputs": [],
      "source": [
        "tpower = 1.3\n",
        "tpreemphasis = 0.98\n",
        "tdb = 20\n",
        "######################\n",
        "\n",
        "\n",
        "dataset_config = BaseDatasetConfig(\n",
        "    formatter=\"ljspeech\", meta_file_train=location_metaData, path=os.path.join(output_path, dataset_path)\n",
        ")\n",
        "\n",
        "audio_config = BaseAudioConfig(\n",
        "    sample_rate=16000, \n",
        "    win_length=1024, \n",
        "    hop_length=256, \n",
        "    num_mels=80, \n",
        "    mel_fmin=0, \n",
        "    mel_fmax=None, \n",
        "    power=tpower,\n",
        "    preemphasis=tpreemphasis,\n",
        "    ref_level_db=tdb\n",
        ")\n",
        "\n",
        "config = VitsConfig(\n",
        "    audio=audio_config,\n",
        "    run_name=\"vits_ljspeech\",\n",
        "    batch_size=32,\n",
        "    eval_batch_size=16,\n",
        "    batch_group_size=5,\n",
        "    num_loader_workers=8,\n",
        "    num_eval_loader_workers=4,\n",
        "    run_eval=True,\n",
        "    test_delay_epochs=-1,\n",
        "    epochs=5000,\n",
        "    text_cleaner=\"english_cleaners\",\n",
        "    use_phonemes=True,\n",
        "    phoneme_language=\"en-us\",\n",
        "    phoneme_cache_path=os.path.join(output_path, \"phoneme_cache\"),\n",
        "    compute_input_seq_cache=True,\n",
        "    print_step=25,\n",
        "    print_eval=True,\n",
        "    mixed_precision=True,\n",
        "    output_path=output_path,\n",
        "    datasets=[dataset_config],\n",
        "    cudnn_benchmark=False\n",
        ")"
      ]
    },
    {
      "cell_type": "code",
      "execution_count": null,
      "metadata": {
        "colab": {
          "base_uri": "https://localhost:8080/"
        },
        "id": "WsAHcms4Kmpi",
        "outputId": "93ef93ea-47a9-4923-aa89-90f2e399cb88"
      },
      "outputs": [],
      "source": [
        "train_samples, eval_samples = load_tts_samples(\n",
        "    dataset_config,\n",
        "    eval_split=True,\n",
        "    eval_split_max_size=config.eval_split_max_size,\n",
        "    # eval_split_size=config.eval_split_size\n",
        "    eval_split_size=0.1\n",
        ")\n",
        "\n",
        "ap = AudioProcessor.init_from_config(config)\n",
        "tokenizer, config = TTSTokenizer.init_from_config(config)\n",
        "model = Vits(config, ap, tokenizer, speaker_manager=None)"
      ]
    },
    {
      "cell_type": "code",
      "execution_count": null,
      "metadata": {
        "id": "COMBB1P1K8fx"
      },
      "outputs": [],
      "source": [
        "trainer = Trainer(\n",
        "    TrainerArgs(), config, output_path, model=model, train_samples=train_samples, eval_samples=eval_samples\n",
        ")\n",
        "\n",
        "trainer.fit()"
      ]
    },
    {
      "cell_type": "code",
      "execution_count": null,
      "metadata": {
        "id": "lrLe0m9ELwWp"
      },
      "outputs": [],
      "source": [
        "## test it!"
      ]
    },
    {
      "cell_type": "code",
      "execution_count": null,
      "metadata": {
        "id": "88nFU7l8Wpdt"
      },
      "outputs": [],
      "source": [
        "# !tts --text \"this is my new voice, lets see how it works. Maybe it does not sound like me.\" \\\n",
        "#       --model_path '/content/drive/MyDrive/VoiceCloning/output/vits_ljspeech-December-17-2022_08+58PM-0000000/best_model_3144.pth' \\\n",
        "#       --config_path '/content/drive/MyDrive/VoiceCloning/output/vits_ljspeech-December-17-2022_08+58PM-0000000/config.json' \\\n",
        "#       --out_path 'out.wav'"
      ]
    },
    {
      "cell_type": "code",
      "execution_count": null,
      "metadata": {
        "id": "XPqSkGyoXSQg"
      },
      "outputs": [],
      "source": []
    }
  ],
  "metadata": {
    "accelerator": "GPU",
    "colab": {
      "machine_shape": "hm",
      "provenance": []
    },
    "gpuClass": "premium",
    "kernelspec": {
      "display_name": "Python 3.10.0 64-bit ('3.10.0')",
      "language": "python",
      "name": "python3"
    },
    "language_info": {
      "name": "python",
      "version": "3.10.0 (default, Jul 29 2022, 15:58:38) [Clang 11.0.3 (clang-1103.0.32.59)]"
    },
    "vscode": {
      "interpreter": {
        "hash": "a5a4724f03e3568cd1cf481694d37f5ccbbd850c172cad9556ffa1f6fa76a86d"
      }
    }
  },
  "nbformat": 4,
  "nbformat_minor": 0
}
