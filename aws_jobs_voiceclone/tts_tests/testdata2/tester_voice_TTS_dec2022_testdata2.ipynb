{
  "cells": [
    {
      "cell_type": "code",
      "execution_count": 1,
      "metadata": {
        "id": "EUa7Evm7DKCY",
        "colab": {
          "base_uri": "https://localhost:8080/"
        },
        "outputId": "ae7fd12b-0f0c-4b91-d917-244312d97b02"
      },
      "outputs": [
        {
          "output_type": "stream",
          "name": "stdout",
          "text": [
            "Looking in indexes: https://pypi.org/simple, https://us-python.pkg.dev/colab-wheels/public/simple/\n",
            "Collecting tts\n",
            "  Downloading TTS-0.10.0-cp38-cp38-manylinux1_x86_64.whl (590 kB)\n",
            "\u001b[K     |████████████████████████████████| 590 kB 31.0 MB/s \n",
            "\u001b[?25hRequirement already satisfied: jieba in /usr/local/lib/python3.8/dist-packages (from tts) (0.42.1)\n",
            "Collecting librosa==0.8.0\n",
            "  Downloading librosa-0.8.0.tar.gz (183 kB)\n",
            "\u001b[K     |████████████████████████████████| 183 kB 86.2 MB/s \n",
            "\u001b[?25hCollecting g2pkk>=0.1.1\n",
            "  Downloading g2pkk-0.1.2-py3-none-any.whl (25 kB)\n",
            "Requirement already satisfied: matplotlib in /usr/local/lib/python3.8/dist-packages (from tts) (3.2.2)\n",
            "Requirement already satisfied: torchaudio in /usr/local/lib/python3.8/dist-packages (from tts) (0.13.0+cu116)\n",
            "Requirement already satisfied: tqdm in /usr/local/lib/python3.8/dist-packages (from tts) (4.64.1)\n",
            "Collecting mecab-python3==1.0.5\n",
            "  Downloading mecab_python3-1.0.5-cp38-cp38-manylinux_2_17_x86_64.manylinux2014_x86_64.whl (577 kB)\n",
            "\u001b[K     |████████████████████████████████| 577 kB 86.3 MB/s \n",
            "\u001b[?25hCollecting gruut[de]==2.2.3\n",
            "  Downloading gruut-2.2.3.tar.gz (73 kB)\n",
            "\u001b[K     |████████████████████████████████| 73 kB 2.5 MB/s \n",
            "\u001b[?25hRequirement already satisfied: pyyaml in /usr/local/lib/python3.8/dist-packages (from tts) (6.0)\n",
            "Requirement already satisfied: flask in /usr/local/lib/python3.8/dist-packages (from tts) (1.1.4)\n",
            "Requirement already satisfied: soundfile in /usr/local/lib/python3.8/dist-packages (from tts) (0.11.0)\n",
            "Requirement already satisfied: scipy>=1.4.0 in /usr/local/lib/python3.8/dist-packages (from tts) (1.7.3)\n",
            "Requirement already satisfied: numpy==1.21.6 in /usr/local/lib/python3.8/dist-packages (from tts) (1.21.6)\n",
            "Collecting anyascii\n",
            "  Downloading anyascii-0.3.1-py3-none-any.whl (287 kB)\n",
            "\u001b[K     |████████████████████████████████| 287 kB 88.6 MB/s \n",
            "\u001b[?25hCollecting pypinyin\n",
            "  Downloading pypinyin-0.47.1-py2.py3-none-any.whl (1.4 MB)\n",
            "\u001b[K     |████████████████████████████████| 1.4 MB 95.9 MB/s \n",
            "\u001b[?25hCollecting pysbd\n",
            "  Downloading pysbd-0.3.4-py3-none-any.whl (71 kB)\n",
            "\u001b[K     |████████████████████████████████| 71 kB 11.2 MB/s \n",
            "\u001b[?25hCollecting trainer\n",
            "  Downloading trainer-0.0.19-py3-none-any.whl (45 kB)\n",
            "\u001b[K     |████████████████████████████████| 45 kB 3.8 MB/s \n",
            "\u001b[?25hCollecting jamo\n",
            "  Downloading jamo-0.4.1-py3-none-any.whl (9.5 kB)\n",
            "Requirement already satisfied: torch>=1.7 in /usr/local/lib/python3.8/dist-packages (from tts) (1.13.0+cu116)\n",
            "Collecting cython==0.29.28\n",
            "  Downloading Cython-0.29.28-cp38-cp38-manylinux_2_17_x86_64.manylinux2014_x86_64.manylinux_2_24_x86_64.whl (1.9 MB)\n",
            "\u001b[K     |████████████████████████████████| 1.9 MB 84.4 MB/s \n",
            "\u001b[?25hRequirement already satisfied: fsspec>=2021.04.0 in /usr/local/lib/python3.8/dist-packages (from tts) (2022.11.0)\n",
            "Collecting umap-learn==0.5.1\n",
            "  Downloading umap-learn-0.5.1.tar.gz (80 kB)\n",
            "\u001b[K     |████████████████████████████████| 80 kB 12.4 MB/s \n",
            "\u001b[?25hCollecting numba==0.55.1\n",
            "  Downloading numba-0.55.1-1-cp38-cp38-manylinux2014_x86_64.manylinux_2_17_x86_64.whl (3.4 MB)\n",
            "\u001b[K     |████████████████████████████████| 3.4 MB 66.2 MB/s \n",
            "\u001b[?25hRequirement already satisfied: pandas in /usr/local/lib/python3.8/dist-packages (from tts) (1.3.5)\n",
            "Collecting unidic-lite==1.0.8\n",
            "  Downloading unidic-lite-1.0.8.tar.gz (47.4 MB)\n",
            "\u001b[K     |████████████████████████████████| 47.4 MB 302 kB/s \n",
            "\u001b[?25hCollecting inflect==5.6.0\n",
            "  Downloading inflect-5.6.0-py3-none-any.whl (33 kB)\n",
            "Requirement already satisfied: nltk in /usr/local/lib/python3.8/dist-packages (from tts) (3.7)\n",
            "Collecting coqpit>=0.0.16\n",
            "  Downloading coqpit-0.0.16-py3-none-any.whl (13 kB)\n",
            "Requirement already satisfied: Babel<3.0.0,>=2.8.0 in /usr/local/lib/python3.8/dist-packages (from gruut[de]==2.2.3->tts) (2.11.0)\n",
            "Collecting dateparser~=1.1.0\n",
            "  Downloading dateparser-1.1.4-py2.py3-none-any.whl (292 kB)\n",
            "\u001b[K     |████████████████████████████████| 292 kB 85.0 MB/s \n",
            "\u001b[?25hCollecting gruut-ipa<1.0,>=0.12.0\n",
            "  Downloading gruut-ipa-0.13.0.tar.gz (101 kB)\n",
            "\u001b[K     |████████████████████████████████| 101 kB 14.9 MB/s \n",
            "\u001b[?25hCollecting gruut_lang_en~=2.0.0\n",
            "  Downloading gruut_lang_en-2.0.0.tar.gz (15.2 MB)\n",
            "\u001b[K     |████████████████████████████████| 15.2 MB 76.9 MB/s \n",
            "\u001b[?25hCollecting jsonlines~=1.2.0\n",
            "  Downloading jsonlines-1.2.0-py2.py3-none-any.whl (7.6 kB)\n",
            "Requirement already satisfied: networkx<3.0.0,>=2.5.0 in /usr/local/lib/python3.8/dist-packages (from gruut[de]==2.2.3->tts) (2.8.8)\n",
            "Collecting num2words<1.0.0,>=0.5.10\n",
            "  Downloading num2words-0.5.12-py3-none-any.whl (125 kB)\n",
            "\u001b[K     |████████████████████████████████| 125 kB 86.7 MB/s \n",
            "\u001b[?25hCollecting python-crfsuite~=0.9.7\n",
            "  Downloading python_crfsuite-0.9.8-cp38-cp38-manylinux_2_17_x86_64.manylinux2014_x86_64.whl (1.0 MB)\n",
            "\u001b[K     |████████████████████████████████| 1.0 MB 79.7 MB/s \n",
            "\u001b[?25hRequirement already satisfied: importlib_resources in /usr/local/lib/python3.8/dist-packages (from gruut[de]==2.2.3->tts) (5.10.1)\n",
            "Collecting gruut_lang_de~=2.0.0\n",
            "  Downloading gruut_lang_de-2.0.0.tar.gz (18.1 MB)\n",
            "\u001b[K     |████████████████████████████████| 18.1 MB 85.0 MB/s \n",
            "\u001b[?25hRequirement already satisfied: audioread>=2.0.0 in /usr/local/lib/python3.8/dist-packages (from librosa==0.8.0->tts) (3.0.0)\n",
            "Requirement already satisfied: scikit-learn!=0.19.0,>=0.14.0 in /usr/local/lib/python3.8/dist-packages (from librosa==0.8.0->tts) (1.0.2)\n",
            "Requirement already satisfied: joblib>=0.14 in /usr/local/lib/python3.8/dist-packages (from librosa==0.8.0->tts) (1.2.0)\n",
            "Requirement already satisfied: decorator>=3.0.0 in /usr/local/lib/python3.8/dist-packages (from librosa==0.8.0->tts) (4.4.2)\n",
            "Requirement already satisfied: resampy>=0.2.2 in /usr/local/lib/python3.8/dist-packages (from librosa==0.8.0->tts) (0.4.2)\n",
            "Requirement already satisfied: pooch>=1.0 in /usr/local/lib/python3.8/dist-packages (from librosa==0.8.0->tts) (1.6.0)\n",
            "Requirement already satisfied: setuptools in /usr/local/lib/python3.8/dist-packages (from numba==0.55.1->tts) (57.4.0)\n",
            "Collecting llvmlite<0.39,>=0.38.0rc1\n",
            "  Downloading llvmlite-0.38.1-cp38-cp38-manylinux_2_17_x86_64.manylinux2014_x86_64.whl (34.5 MB)\n",
            "\u001b[K     |████████████████████████████████| 34.5 MB 1.2 MB/s \n",
            "\u001b[?25hCollecting pynndescent>=0.5\n",
            "  Downloading pynndescent-0.5.8.tar.gz (1.1 MB)\n",
            "\u001b[K     |████████████████████████████████| 1.1 MB 88.9 MB/s \n",
            "\u001b[?25hRequirement already satisfied: pytz>=2015.7 in /usr/local/lib/python3.8/dist-packages (from Babel<3.0.0,>=2.8.0->gruut[de]==2.2.3->tts) (2022.6)\n",
            "Requirement already satisfied: regex!=2019.02.19,!=2021.8.27 in /usr/local/lib/python3.8/dist-packages (from dateparser~=1.1.0->gruut[de]==2.2.3->tts) (2022.6.2)\n",
            "Requirement already satisfied: tzlocal in /usr/local/lib/python3.8/dist-packages (from dateparser~=1.1.0->gruut[de]==2.2.3->tts) (1.5.1)\n",
            "Requirement already satisfied: python-dateutil in /usr/local/lib/python3.8/dist-packages (from dateparser~=1.1.0->gruut[de]==2.2.3->tts) (2.8.2)\n",
            "Requirement already satisfied: six in /usr/local/lib/python3.8/dist-packages (from jsonlines~=1.2.0->gruut[de]==2.2.3->tts) (1.15.0)\n",
            "Collecting docopt>=0.6.2\n",
            "  Downloading docopt-0.6.2.tar.gz (25 kB)\n",
            "Requirement already satisfied: packaging>=20.0 in /usr/local/lib/python3.8/dist-packages (from pooch>=1.0->librosa==0.8.0->tts) (21.3)\n",
            "Requirement already satisfied: appdirs>=1.3.0 in /usr/local/lib/python3.8/dist-packages (from pooch>=1.0->librosa==0.8.0->tts) (1.4.4)\n",
            "Requirement already satisfied: requests>=2.19.0 in /usr/local/lib/python3.8/dist-packages (from pooch>=1.0->librosa==0.8.0->tts) (2.23.0)\n",
            "Requirement already satisfied: pyparsing!=3.0.5,>=2.0.2 in /usr/local/lib/python3.8/dist-packages (from packaging>=20.0->pooch>=1.0->librosa==0.8.0->tts) (3.0.9)\n",
            "Requirement already satisfied: chardet<4,>=3.0.2 in /usr/local/lib/python3.8/dist-packages (from requests>=2.19.0->pooch>=1.0->librosa==0.8.0->tts) (3.0.4)\n",
            "Requirement already satisfied: certifi>=2017.4.17 in /usr/local/lib/python3.8/dist-packages (from requests>=2.19.0->pooch>=1.0->librosa==0.8.0->tts) (2022.12.7)\n",
            "Requirement already satisfied: urllib3!=1.25.0,!=1.25.1,<1.26,>=1.21.1 in /usr/local/lib/python3.8/dist-packages (from requests>=2.19.0->pooch>=1.0->librosa==0.8.0->tts) (1.24.3)\n",
            "Requirement already satisfied: idna<3,>=2.5 in /usr/local/lib/python3.8/dist-packages (from requests>=2.19.0->pooch>=1.0->librosa==0.8.0->tts) (2.10)\n",
            "Requirement already satisfied: threadpoolctl>=2.0.0 in /usr/local/lib/python3.8/dist-packages (from scikit-learn!=0.19.0,>=0.14.0->librosa==0.8.0->tts) (3.1.0)\n",
            "Requirement already satisfied: cffi>=1.0 in /usr/local/lib/python3.8/dist-packages (from soundfile->tts) (1.15.1)\n",
            "Requirement already satisfied: pycparser in /usr/local/lib/python3.8/dist-packages (from cffi>=1.0->soundfile->tts) (2.21)\n",
            "Requirement already satisfied: typing-extensions in /usr/local/lib/python3.8/dist-packages (from torch>=1.7->tts) (4.4.0)\n",
            "Requirement already satisfied: Jinja2<3.0,>=2.10.1 in /usr/local/lib/python3.8/dist-packages (from flask->tts) (2.11.3)\n",
            "Requirement already satisfied: itsdangerous<2.0,>=0.24 in /usr/local/lib/python3.8/dist-packages (from flask->tts) (1.1.0)\n",
            "Requirement already satisfied: click<8.0,>=5.1 in /usr/local/lib/python3.8/dist-packages (from flask->tts) (7.1.2)\n",
            "Requirement already satisfied: Werkzeug<2.0,>=0.15 in /usr/local/lib/python3.8/dist-packages (from flask->tts) (1.0.1)\n",
            "Requirement already satisfied: MarkupSafe>=0.23 in /usr/local/lib/python3.8/dist-packages (from Jinja2<3.0,>=2.10.1->flask->tts) (2.0.1)\n",
            "Requirement already satisfied: zipp>=3.1.0 in /usr/local/lib/python3.8/dist-packages (from importlib_resources->gruut[de]==2.2.3->tts) (3.11.0)\n",
            "Requirement already satisfied: kiwisolver>=1.0.1 in /usr/local/lib/python3.8/dist-packages (from matplotlib->tts) (1.4.4)\n",
            "Requirement already satisfied: cycler>=0.10 in /usr/local/lib/python3.8/dist-packages (from matplotlib->tts) (0.11.0)\n",
            "Requirement already satisfied: psutil in /usr/local/lib/python3.8/dist-packages (from trainer->tts) (5.4.8)\n",
            "Collecting tensorboardX\n",
            "  Downloading tensorboardX-2.5.1-py2.py3-none-any.whl (125 kB)\n",
            "\u001b[K     |████████████████████████████████| 125 kB 90.5 MB/s \n",
            "\u001b[?25hRequirement already satisfied: protobuf<3.20,>=3.9.2 in /usr/local/lib/python3.8/dist-packages (from trainer->tts) (3.19.6)\n",
            "Building wheels for collected packages: gruut, librosa, umap-learn, unidic-lite, gruut-ipa, gruut-lang-de, gruut-lang-en, docopt, pynndescent\n",
            "  Building wheel for gruut (setup.py) ... \u001b[?25l\u001b[?25hdone\n",
            "  Created wheel for gruut: filename=gruut-2.2.3-py3-none-any.whl size=75819 sha256=9db9d900635ab4fbc08602f3a0bab7d7c120259ca2d10ffca57b615d033d8727\n",
            "  Stored in directory: /root/.cache/pip/wheels/b5/77/15/4d57c0e698b2340faa0ca0b1638ffce2683aacc4e41d5123d8\n",
            "  Building wheel for librosa (setup.py) ... \u001b[?25l\u001b[?25hdone\n",
            "  Created wheel for librosa: filename=librosa-0.8.0-py3-none-any.whl size=201396 sha256=b2f2f0546e527dee6dd5ba53ca3b89b3f7b50201cdc0bcd629cec383aedeab97\n",
            "  Stored in directory: /root/.cache/pip/wheels/aa/5a/92/d52f6f8560ff05a2525e6030a1903412df876714241fb76802\n",
            "  Building wheel for umap-learn (setup.py) ... \u001b[?25l\u001b[?25hdone\n",
            "  Created wheel for umap-learn: filename=umap_learn-0.5.1-py3-none-any.whl size=76566 sha256=a2ca4a5ab62a71c042f4150f1be9cf698247e8ba8b90d1d8f8e178f573d3b72c\n",
            "  Stored in directory: /root/.cache/pip/wheels/95/85/b7/b4b7040e49367b6d1505d7e8fb57e3e79b22fa6ac26f72520b\n",
            "  Building wheel for unidic-lite (setup.py) ... \u001b[?25l\u001b[?25hdone\n",
            "  Created wheel for unidic-lite: filename=unidic_lite-1.0.8-py3-none-any.whl size=47658837 sha256=0f3444b62dcf9363d69951b2eef43f604e41529747ea0500c5a2df51b4fc8d95\n",
            "  Stored in directory: /root/.cache/pip/wheels/8c/dd/8f/e21fc192dcd38ae31e1185ce4e66e12df4e811e3d469866e15\n",
            "  Building wheel for gruut-ipa (setup.py) ... \u001b[?25l\u001b[?25hdone\n",
            "  Created wheel for gruut-ipa: filename=gruut_ipa-0.13.0-py3-none-any.whl size=104895 sha256=1ec69a451ec8c78cd2191decf2a8ece4fca50388204b9947be795fc505e88bd1\n",
            "  Stored in directory: /root/.cache/pip/wheels/bd/ef/27/f88344c08d8cca457a5316a39b099505e68a9f2a0547e0c5e7\n",
            "  Building wheel for gruut-lang-de (setup.py) ... \u001b[?25l\u001b[?25hdone\n",
            "  Created wheel for gruut-lang-de: filename=gruut_lang_de-2.0.0-py3-none-any.whl size=18498199 sha256=e7aaccfda3838ce2e14faf41efa4bfd9d49982ef6b803c6e67d7cee1414e7a4f\n",
            "  Stored in directory: /root/.cache/pip/wheels/7e/e1/60/d80ef587c3dd944644291065719d35ff92747b8e65135b2aa5\n",
            "  Building wheel for gruut-lang-en (setup.py) ... \u001b[?25l\u001b[?25hdone\n",
            "  Created wheel for gruut-lang-en: filename=gruut_lang_en-2.0.0-py3-none-any.whl size=15297198 sha256=dbc910748d3783afdc64b1cdaaa37c7ab4a5af04b160dd13499c327ba7a574e9\n",
            "  Stored in directory: /root/.cache/pip/wheels/9f/f7/60/ddc598856abe98015bfefa228160da28a0d5d0ba39b4c7ddf4\n",
            "  Building wheel for docopt (setup.py) ... \u001b[?25l\u001b[?25hdone\n",
            "  Created wheel for docopt: filename=docopt-0.6.2-py2.py3-none-any.whl size=13723 sha256=5964f82a1d3da39012f9c8434cde45478b4e148fcc778da3ef114900f60d8f4b\n",
            "  Stored in directory: /root/.cache/pip/wheels/56/ea/58/ead137b087d9e326852a851351d1debf4ada529b6ac0ec4e8c\n",
            "  Building wheel for pynndescent (setup.py) ... \u001b[?25l\u001b[?25hdone\n",
            "  Created wheel for pynndescent: filename=pynndescent-0.5.8-py3-none-any.whl size=55513 sha256=6510f4736dc883390b741e321c1935818ed80f58139095e831344e621bf99cde\n",
            "  Stored in directory: /root/.cache/pip/wheels/1c/63/3a/29954bca1a27ba100ed8c27973a78cb71b43dc67aed62e80c3\n",
            "Successfully built gruut librosa umap-learn unidic-lite gruut-ipa gruut-lang-de gruut-lang-en docopt pynndescent\n",
            "Installing collected packages: llvmlite, docopt, python-crfsuite, numba, num2words, jsonlines, gruut-lang-en, gruut-ipa, dateparser, tensorboardX, pynndescent, jamo, gruut-lang-de, gruut, coqpit, unidic-lite, umap-learn, trainer, pysbd, pypinyin, mecab-python3, librosa, inflect, g2pkk, cython, anyascii, tts\n",
            "  Attempting uninstall: llvmlite\n",
            "    Found existing installation: llvmlite 0.39.1\n",
            "    Uninstalling llvmlite-0.39.1:\n",
            "      Successfully uninstalled llvmlite-0.39.1\n",
            "  Attempting uninstall: numba\n",
            "    Found existing installation: numba 0.56.4\n",
            "    Uninstalling numba-0.56.4:\n",
            "      Successfully uninstalled numba-0.56.4\n",
            "  Attempting uninstall: librosa\n",
            "    Found existing installation: librosa 0.8.1\n",
            "    Uninstalling librosa-0.8.1:\n",
            "      Successfully uninstalled librosa-0.8.1\n",
            "  Attempting uninstall: inflect\n",
            "    Found existing installation: inflect 2.1.0\n",
            "    Uninstalling inflect-2.1.0:\n",
            "      Successfully uninstalled inflect-2.1.0\n",
            "  Attempting uninstall: cython\n",
            "    Found existing installation: Cython 0.29.32\n",
            "    Uninstalling Cython-0.29.32:\n",
            "      Successfully uninstalled Cython-0.29.32\n",
            "Successfully installed anyascii-0.3.1 coqpit-0.0.16 cython-0.29.28 dateparser-1.1.4 docopt-0.6.2 g2pkk-0.1.2 gruut-2.2.3 gruut-ipa-0.13.0 gruut-lang-de-2.0.0 gruut-lang-en-2.0.0 inflect-5.6.0 jamo-0.4.1 jsonlines-1.2.0 librosa-0.8.0 llvmlite-0.38.1 mecab-python3-1.0.5 num2words-0.5.12 numba-0.55.1 pynndescent-0.5.8 pypinyin-0.47.1 pysbd-0.3.4 python-crfsuite-0.9.8 tensorboardX-2.5.1 trainer-0.0.19 tts-0.10.0 umap-learn-0.5.1 unidic-lite-1.0.8\n"
          ]
        }
      ],
      "source": [
        "!pip install tts"
      ]
    },
    {
      "cell_type": "code",
      "source": [
        "from google.colab import drive\n",
        "drive.mount('/content/drive')"
      ],
      "metadata": {
        "id": "x9Hk2GKtVZoH",
        "colab": {
          "base_uri": "https://localhost:8080/"
        },
        "outputId": "06c60042-6697-4d32-b478-5de65ded7ec6"
      },
      "execution_count": 18,
      "outputs": [
        {
          "output_type": "stream",
          "name": "stdout",
          "text": [
            "Mounted at /content/drive\n"
          ]
        }
      ]
    },
    {
      "cell_type": "code",
      "source": [],
      "metadata": {
        "id": "T0Ti03MjVZz3"
      },
      "execution_count": null,
      "outputs": []
    },
    {
      "cell_type": "code",
      "execution_count": null,
      "metadata": {
        "id": "KRBYjNFhDMBg"
      },
      "outputs": [],
      "source": [
        "!tts"
      ]
    },
    {
      "cell_type": "code",
      "execution_count": 2,
      "metadata": {
        "id": "nTJ3CTwGDkFg"
      },
      "outputs": [],
      "source": [
        "from TTS.tts.configs.shared_configs import BaseDatasetConfig\n",
        "from TTS.config.shared_configs import BaseAudioConfig\n",
        "from TTS.utils.audio import AudioProcessor\n",
        "from TTS.tts.utils.text.tokenizer import TTSTokenizer\n",
        "from TTS.tts.models.vits import Vits\n",
        "from TTS.tts.configs.vits_config import VitsConfig\n",
        "from trainer import Trainer, TrainerArgs\n",
        "from TTS.tts.datasets import load_tts_samples"
      ]
    },
    {
      "cell_type": "code",
      "execution_count": 3,
      "metadata": {
        "id": "fgGJ_V2aKXk9"
      },
      "outputs": [],
      "source": [
        "import os"
      ]
    },
    {
      "cell_type": "code",
      "execution_count": 4,
      "metadata": {
        "colab": {
          "base_uri": "https://localhost:8080/"
        },
        "id": "5pyldHtkDpAD",
        "outputId": "f258bd8c-efbe-4564-ef36-7e921c773138"
      },
      "outputs": [
        {
          "output_type": "stream",
          "name": "stdout",
          "text": [
            "Cloning into 'digitalclone-backend'...\n",
            "remote: Enumerating objects: 528, done.\u001b[K\n",
            "remote: Counting objects: 100% (39/39), done.\u001b[K\n",
            "remote: Compressing objects: 100% (39/39), done.\u001b[K\n",
            "remote: Total 528 (delta 7), reused 13 (delta 0), pack-reused 489\u001b[K\n",
            "Receiving objects: 100% (528/528), 43.94 MiB | 17.43 MiB/s, done.\n",
            "Resolving deltas: 100% (194/194), done.\n"
          ]
        }
      ],
      "source": [
        "!git clone https://github.com/hantswilliams/digitalclone-backend.git"
      ]
    },
    {
      "cell_type": "code",
      "source": [],
      "metadata": {
        "id": "lq_YnhB1UdA9"
      },
      "execution_count": null,
      "outputs": []
    },
    {
      "cell_type": "code",
      "execution_count": 5,
      "metadata": {
        "colab": {
          "base_uri": "https://localhost:8080/"
        },
        "id": "hdU7Q4npDvYW",
        "outputId": "dae3708c-9af9-4d30-c2ff-d27603ddf354"
      },
      "outputs": [
        {
          "output_type": "stream",
          "name": "stdout",
          "text": [
            "Already up to date.\n"
          ]
        }
      ],
      "source": [
        "!cd digitalclone-backend/ && git pull"
      ]
    },
    {
      "cell_type": "code",
      "execution_count": 19,
      "metadata": {
        "id": "_TWFBSCTIQ_3"
      },
      "outputs": [],
      "source": [
        "location_metaData = \"/content/digitalclone-backend/aws_jobs_voiceclone/tts_tests/testdata2/metaData_list_all.txt\"\n",
        "dataset_path_raw = \"/content/digitalclone-backend/aws_jobs_voiceclone/tts_tests/testdata2/raw\"\n",
        "dataset_path_clean = \"/content/digitalclone-backend/aws_jobs_voiceclone/tts_tests/testdata2/clean/wavs\"\n",
        "dataset_path = \"/content/digitalclone-backend/aws_jobs_voiceclone/tts_tests/testdata2/clean/\"\n",
        "output_path = \"/content/drive/MyDrive/VoiceCloning/output\""
      ]
    },
    {
      "cell_type": "code",
      "execution_count": 7,
      "metadata": {
        "colab": {
          "base_uri": "https://localhost:8080/"
        },
        "id": "6q77_fwOKQuB",
        "outputId": "1598a9cc-c727-41db-9369-7a6170db2645"
      },
      "outputs": [
        {
          "output_type": "stream",
          "name": "stdout",
          "text": [
            "audiofiles...: ['list8-q3_1671048214796.wav', 'list4-q2_1671048494898.wav', 'list9-q1_1671048110495.wav', 'list4-q4_1671048504109.wav', 'list1-q8_1671048704560.wav', 'list3-q3_1671048556054.wav', 'list7-q9_1671048323379.wav', 'list5-q6_1671048454713.wav', 'list2-q3_1671048619283.wav', 'list6-q4_1671048372452.wav', 'list1-q9_1671048709584.wav', 'list8-q4_1671048220444.wav', 'list4-q3_1671048499833.wav', 'list9-q10_1671048175898.wav', 'list3-q2_1671048550054.wav', 'list5-q1_1671048425822.wav', 'list2-q8_1671048645021.wav', 'list6-q8_1671048402936.wav', 'list2-q4_1671048624226.wav', 'list5-q3_1671048436469.wav', 'list7-q5_1671048299610.wav', 'list6-q6_1671048382963.wav', 'list3-q9_1671048592548.wav', 'list2-q7_1671048639737.wav', 'list1-q3_1671048679438.wav', 'list9-q3_1671048131818.wav', 'list1-q4_1671048684115.wav', 'list7-q8_1671048317827.wav', 'list7-q2_1671048283567.wav', 'list1-q5_1671048689804.wav', 'list1-q7_1671048699715.wav', 'list3-q1_1671048544906.wav', 'list9-q8_1671048159979.wav', 'list5-q10_1671048474489.wav', 'list3-q4_1671048565887.wav', 'list7-q6_1671048305656.wav', 'list9-q6_1671048149356.wav', 'list8-q5_1671048226434.wav', 'list4-q8_1671048523723.wav', 'list5-q9_1671048469754.wav', 'list9-q4_1671048138137.wav', 'list7-q3_1671048289013.wav', 'list7-q1_1671048277653.wav', 'list8-q9_1671048256489.wav', 'list3-q8_1671048586858.wav', 'list2-q5_1671048628968.wav', 'list8-q7_1671048237657.wav', 'list8-q1_1671048198938.wav', 'list7-q7_1671048312079.wav', 'list6-q7_1671048392749.wav', 'list5-q7_1671048460304.wav', 'list3-q10_1671048597830.wav', 'list6-q5_1671048377678.wav', 'list1-q2_1671048674867.wav', 'list2-q2_1671048613796.wav', 'list5-q4_1671048441252.wav', 'list3-q5_1671048571106.wav', 'list4-q7_1671048518891.wav', 'list4-q5_1671048508739.wav', 'list2-q1_1671048608899.wav', 'list6-q2_1671048346374.wav', 'list8-q10_1671048262306.wav', 'list5-q8_1671048464836.wav', 'list6-q3_1671048363261.wav', 'list4-q10_1671048532914.wav', 'list8-q2_1671048204618.wav', 'list9-q7_1671048154458.wav', 'list8-q6_1671048231668.wav', 'list2-q9_1671048650200.wav', 'list6-q1_1671048341158.wav', 'list5-q2_1671048431591.wav', 'list6-q9_1671048409071.wav', 'list7-q4_1671048294544.wav', 'list1-q6_1671048694496.wav', 'list9-q9_1671048170127.wav', 'list5-q5_1671048450103.wav', 'list4-q6_1671048513802.wav', 'list7-q10_1671048329197.wav', 'list4-q1_1671048490053.wav', 'list2-q10_1671048659992.wav', 'list6-q10_1671048414404.wav', 'list3-q6_1671048576082.wav', 'list8-q8_1671048249486.wav', 'list1-q1_1671048670269.wav', 'list9-q5_1671048143792.wav', 'list4-q9_1671048528487.wav', 'list9-q2_1671048126153.wav', 'list2-q6_1671048634089.wav', 'list3-q7_1671048581331.wav', 'list1-q10_1671048714844.wav']\n"
          ]
        }
      ],
      "source": [
        "# get list of files in audiofiles/wavs\n",
        "audiofiles_raw = os.listdir(dataset_path_raw)\n",
        "print('audiofiles...:', audiofiles_raw)\n"
      ]
    },
    {
      "cell_type": "code",
      "execution_count": 8,
      "metadata": {
        "colab": {
          "base_uri": "https://localhost:8080/"
        },
        "id": "Jiy1ksGiKbwe",
        "outputId": "926a7d86-103d-44fd-c2b6-886171bfc5f8"
      },
      "outputs": [
        {
          "output_type": "stream",
          "name": "stdout",
          "text": [
            "converted list8-q3_1671048214796.wav to 16000\n",
            "converted list4-q2_1671048494898.wav to 16000\n",
            "converted list9-q1_1671048110495.wav to 16000\n",
            "converted list4-q4_1671048504109.wav to 16000\n",
            "converted list1-q8_1671048704560.wav to 16000\n",
            "converted list3-q3_1671048556054.wav to 16000\n",
            "converted list7-q9_1671048323379.wav to 16000\n",
            "converted list5-q6_1671048454713.wav to 16000\n",
            "converted list2-q3_1671048619283.wav to 16000\n",
            "converted list6-q4_1671048372452.wav to 16000\n",
            "converted list1-q9_1671048709584.wav to 16000\n",
            "converted list8-q4_1671048220444.wav to 16000\n",
            "converted list4-q3_1671048499833.wav to 16000\n",
            "converted list9-q10_1671048175898.wav to 16000\n",
            "converted list3-q2_1671048550054.wav to 16000\n",
            "converted list5-q1_1671048425822.wav to 16000\n",
            "converted list2-q8_1671048645021.wav to 16000\n",
            "converted list6-q8_1671048402936.wav to 16000\n",
            "converted list2-q4_1671048624226.wav to 16000\n",
            "converted list5-q3_1671048436469.wav to 16000\n",
            "converted list7-q5_1671048299610.wav to 16000\n",
            "converted list6-q6_1671048382963.wav to 16000\n",
            "converted list3-q9_1671048592548.wav to 16000\n",
            "converted list2-q7_1671048639737.wav to 16000\n",
            "converted list1-q3_1671048679438.wav to 16000\n",
            "converted list9-q3_1671048131818.wav to 16000\n",
            "converted list1-q4_1671048684115.wav to 16000\n",
            "converted list7-q8_1671048317827.wav to 16000\n",
            "converted list7-q2_1671048283567.wav to 16000\n",
            "converted list1-q5_1671048689804.wav to 16000\n",
            "converted list1-q7_1671048699715.wav to 16000\n",
            "converted list3-q1_1671048544906.wav to 16000\n",
            "converted list9-q8_1671048159979.wav to 16000\n",
            "converted list5-q10_1671048474489.wav to 16000\n",
            "converted list3-q4_1671048565887.wav to 16000\n",
            "converted list7-q6_1671048305656.wav to 16000\n",
            "converted list9-q6_1671048149356.wav to 16000\n",
            "converted list8-q5_1671048226434.wav to 16000\n",
            "converted list4-q8_1671048523723.wav to 16000\n",
            "converted list5-q9_1671048469754.wav to 16000\n",
            "converted list9-q4_1671048138137.wav to 16000\n",
            "converted list7-q3_1671048289013.wav to 16000\n",
            "converted list7-q1_1671048277653.wav to 16000\n",
            "converted list8-q9_1671048256489.wav to 16000\n",
            "converted list3-q8_1671048586858.wav to 16000\n",
            "converted list2-q5_1671048628968.wav to 16000\n",
            "converted list8-q7_1671048237657.wav to 16000\n",
            "converted list8-q1_1671048198938.wav to 16000\n",
            "converted list7-q7_1671048312079.wav to 16000\n",
            "converted list6-q7_1671048392749.wav to 16000\n",
            "converted list5-q7_1671048460304.wav to 16000\n",
            "converted list3-q10_1671048597830.wav to 16000\n",
            "converted list6-q5_1671048377678.wav to 16000\n",
            "converted list1-q2_1671048674867.wav to 16000\n",
            "converted list2-q2_1671048613796.wav to 16000\n",
            "converted list5-q4_1671048441252.wav to 16000\n",
            "converted list3-q5_1671048571106.wav to 16000\n",
            "converted list4-q7_1671048518891.wav to 16000\n",
            "converted list4-q5_1671048508739.wav to 16000\n",
            "converted list2-q1_1671048608899.wav to 16000\n",
            "converted list6-q2_1671048346374.wav to 16000\n",
            "converted list8-q10_1671048262306.wav to 16000\n",
            "converted list5-q8_1671048464836.wav to 16000\n",
            "converted list6-q3_1671048363261.wav to 16000\n",
            "converted list4-q10_1671048532914.wav to 16000\n",
            "converted list8-q2_1671048204618.wav to 16000\n",
            "converted list9-q7_1671048154458.wav to 16000\n",
            "converted list8-q6_1671048231668.wav to 16000\n",
            "converted list2-q9_1671048650200.wav to 16000\n",
            "converted list6-q1_1671048341158.wav to 16000\n",
            "converted list5-q2_1671048431591.wav to 16000\n",
            "converted list6-q9_1671048409071.wav to 16000\n",
            "converted list7-q4_1671048294544.wav to 16000\n",
            "converted list1-q6_1671048694496.wav to 16000\n",
            "converted list9-q9_1671048170127.wav to 16000\n",
            "converted list5-q5_1671048450103.wav to 16000\n",
            "converted list4-q6_1671048513802.wav to 16000\n",
            "converted list7-q10_1671048329197.wav to 16000\n",
            "converted list4-q1_1671048490053.wav to 16000\n",
            "converted list2-q10_1671048659992.wav to 16000\n",
            "converted list6-q10_1671048414404.wav to 16000\n",
            "converted list3-q6_1671048576082.wav to 16000\n",
            "converted list8-q8_1671048249486.wav to 16000\n",
            "converted list1-q1_1671048670269.wav to 16000\n",
            "converted list9-q5_1671048143792.wav to 16000\n",
            "converted list4-q9_1671048528487.wav to 16000\n",
            "converted list9-q2_1671048126153.wav to 16000\n",
            "converted list2-q6_1671048634089.wav to 16000\n",
            "converted list3-q7_1671048581331.wav to 16000\n",
            "converted list1-q10_1671048714844.wav to 16000\n"
          ]
        }
      ],
      "source": [
        "# loop through each file in audiofiles/wavs and convert to 22050\n",
        "for file in audiofiles_raw:\n",
        "    # get file name\n",
        "    filename = file.split(\".\")[0]\n",
        "    # get file extension\n",
        "    fileext = file.split(\".\")[1]\n",
        "    # create command to convert file to 22050\n",
        "    command = \"ffmpeg -i \" + dataset_path_raw + \"/\" + file + \" -ar 16000 -ac 1 \" + dataset_path_clean + \"/\" + filename + '.' + fileext + \" -y\"\n",
        "    # run command\n",
        "    os.system(command)\n",
        "    # print\n",
        "    print(\"converted \" + file + \" to 16000\")"
      ]
    },
    {
      "cell_type": "code",
      "execution_count": 20,
      "metadata": {
        "id": "Q78X08hUKiRB"
      },
      "outputs": [],
      "source": [
        "tpower = 1.3\n",
        "tpreemphasis = 0.98\n",
        "tdb = 20\n",
        "######################\n",
        "\n",
        "\n",
        "dataset_config = BaseDatasetConfig(\n",
        "    formatter=\"ljspeech\", meta_file_train=location_metaData, path=os.path.join(output_path, dataset_path)\n",
        ")\n",
        "\n",
        "audio_config = BaseAudioConfig(\n",
        "    sample_rate=16000, \n",
        "    win_length=1024, \n",
        "    hop_length=256, \n",
        "    num_mels=80, \n",
        "    mel_fmin=0, \n",
        "    mel_fmax=None, \n",
        "    power=tpower,\n",
        "    preemphasis=tpreemphasis,\n",
        "    ref_level_db=tdb\n",
        ")\n",
        "\n",
        "config = VitsConfig(\n",
        "    audio=audio_config,\n",
        "    run_name=\"vits_ljspeech\",\n",
        "    batch_size=32,\n",
        "    eval_batch_size=16,\n",
        "    batch_group_size=5,\n",
        "    num_loader_workers=8,\n",
        "    num_eval_loader_workers=4,\n",
        "    run_eval=True,\n",
        "    test_delay_epochs=-1,\n",
        "    epochs=5000,\n",
        "    text_cleaner=\"english_cleaners\",\n",
        "    use_phonemes=True,\n",
        "    phoneme_language=\"en-us\",\n",
        "    phoneme_cache_path=os.path.join(output_path, \"phoneme_cache\"),\n",
        "    compute_input_seq_cache=True,\n",
        "    print_step=25,\n",
        "    print_eval=True,\n",
        "    mixed_precision=True,\n",
        "    output_path=output_path,\n",
        "    datasets=[dataset_config],\n",
        "    cudnn_benchmark=False\n",
        ")"
      ]
    },
    {
      "cell_type": "code",
      "execution_count": 21,
      "metadata": {
        "id": "WsAHcms4Kmpi",
        "colab": {
          "base_uri": "https://localhost:8080/"
        },
        "outputId": "93ef93ea-47a9-4923-aa89-90f2e399cb88"
      },
      "outputs": [
        {
          "output_type": "stream",
          "name": "stdout",
          "text": [
            " | > Found 90 files in /content/digitalclone-backend/aws_jobs_voiceclone/tts_tests/testdata2/clean\n",
            " > Setting up Audio Processor...\n",
            " | > sample_rate:16000\n",
            " | > resample:False\n",
            " | > num_mels:80\n",
            " | > log_func:np.log10\n",
            " | > min_level_db:-100\n",
            " | > frame_shift_ms:None\n",
            " | > frame_length_ms:None\n",
            " | > ref_level_db:20\n",
            " | > fft_size:1024\n",
            " | > power:1.3\n",
            " | > preemphasis:0.98\n",
            " | > griffin_lim_iters:60\n",
            " | > signal_norm:True\n",
            " | > symmetric_norm:True\n",
            " | > mel_fmin:0\n",
            " | > mel_fmax:None\n",
            " | > pitch_fmin:1.0\n",
            " | > pitch_fmax:640.0\n",
            " | > spec_gain:20.0\n",
            " | > stft_pad_mode:reflect\n",
            " | > max_norm:4.0\n",
            " | > clip_norm:True\n",
            " | > do_trim_silence:True\n",
            " | > trim_db:45\n",
            " | > do_sound_norm:False\n",
            " | > do_amp_to_db_linear:True\n",
            " | > do_amp_to_db_mel:True\n",
            " | > do_rms_norm:False\n",
            " | > db_level:None\n",
            " | > stats_path:None\n",
            " | > base:10\n",
            " | > hop_length:256\n",
            " | > win_length:1024\n"
          ]
        }
      ],
      "source": [
        "train_samples, eval_samples = load_tts_samples(\n",
        "    dataset_config,\n",
        "    eval_split=True,\n",
        "    eval_split_max_size=config.eval_split_max_size,\n",
        "    # eval_split_size=config.eval_split_size\n",
        "    eval_split_size=0.1\n",
        ")\n",
        "\n",
        "ap = AudioProcessor.init_from_config(config)\n",
        "tokenizer, config = TTSTokenizer.init_from_config(config)\n",
        "model = Vits(config, ap, tokenizer, speaker_manager=None)"
      ]
    },
    {
      "cell_type": "code",
      "execution_count": null,
      "metadata": {
        "id": "COMBB1P1K8fx"
      },
      "outputs": [],
      "source": [
        "trainer = Trainer(\n",
        "    TrainerArgs(), config, output_path, model=model, train_samples=train_samples, eval_samples=eval_samples\n",
        ")\n",
        "\n",
        "trainer.fit()"
      ]
    },
    {
      "cell_type": "code",
      "execution_count": null,
      "metadata": {
        "id": "lrLe0m9ELwWp"
      },
      "outputs": [],
      "source": [
        "## test it!"
      ]
    },
    {
      "cell_type": "code",
      "execution_count": null,
      "metadata": {
        "id": "88nFU7l8Wpdt"
      },
      "outputs": [],
      "source": [
        "!tts --text \"this is my new voice, lets see how it works. Maybe it does not sound like me.\" \\\n",
        "      --model_path '/content/drive/MyDrive/VoiceCloning/output/vits_ljspeech-December-17-2022_08+58PM-0000000/best_model_3144.pth' \\\n",
        "      --config_path '/content/drive/MyDrive/VoiceCloning/output/vits_ljspeech-December-17-2022_08+58PM-0000000/config.json' \\\n",
        "      --out_path 'out.wav'"
      ]
    },
    {
      "cell_type": "code",
      "execution_count": null,
      "metadata": {
        "id": "XPqSkGyoXSQg"
      },
      "outputs": [],
      "source": []
    }
  ],
  "metadata": {
    "accelerator": "GPU",
    "colab": {
      "machine_shape": "hm",
      "provenance": []
    },
    "gpuClass": "premium",
    "kernelspec": {
      "display_name": "Python 3.10.0 64-bit ('3.10.0')",
      "language": "python",
      "name": "python3"
    },
    "language_info": {
      "name": "python",
      "version": "3.10.0"
    },
    "vscode": {
      "interpreter": {
        "hash": "a5a4724f03e3568cd1cf481694d37f5ccbbd850c172cad9556ffa1f6fa76a86d"
      }
    }
  },
  "nbformat": 4,
  "nbformat_minor": 0
}