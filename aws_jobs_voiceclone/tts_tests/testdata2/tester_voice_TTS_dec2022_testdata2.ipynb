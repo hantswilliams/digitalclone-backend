{
  "cells": [
    {
      "cell_type": "code",
      "execution_count": null,
      "metadata": {
        "id": "EUa7Evm7DKCY"
      },
      "outputs": [],
      "source": [
        "!pip install tts"
      ]
    },
    {
      "cell_type": "code",
      "source": [],
      "metadata": {
        "id": "x9Hk2GKtVZoH"
      },
      "execution_count": null,
      "outputs": []
    },
    {
      "cell_type": "code",
      "source": [],
      "metadata": {
        "id": "T0Ti03MjVZz3"
      },
      "execution_count": null,
      "outputs": []
    },
    {
      "cell_type": "code",
      "execution_count": null,
      "metadata": {
        "id": "KRBYjNFhDMBg"
      },
      "outputs": [],
      "source": [
        "!tts"
      ]
    },
    {
      "cell_type": "code",
      "execution_count": 2,
      "metadata": {
        "id": "nTJ3CTwGDkFg"
      },
      "outputs": [],
      "source": [
        "from TTS.tts.configs.shared_configs import BaseDatasetConfig\n",
        "from TTS.config.shared_configs import BaseAudioConfig\n",
        "from TTS.utils.audio import AudioProcessor\n",
        "from TTS.tts.utils.text.tokenizer import TTSTokenizer\n",
        "from TTS.tts.models.vits import Vits\n",
        "from TTS.tts.configs.vits_config import VitsConfig\n",
        "from trainer import Trainer, TrainerArgs\n",
        "from TTS.tts.datasets import load_tts_samples"
      ]
    },
    {
      "cell_type": "code",
      "execution_count": 3,
      "metadata": {
        "id": "fgGJ_V2aKXk9"
      },
      "outputs": [],
      "source": [
        "import os"
      ]
    },
    {
      "cell_type": "code",
      "execution_count": 4,
      "metadata": {
        "colab": {
          "base_uri": "https://localhost:8080/"
        },
        "id": "5pyldHtkDpAD",
        "outputId": "0cd3f3cc-864e-4bc3-977e-433f04b51b07"
      },
      "outputs": [
        {
          "output_type": "stream",
          "name": "stdout",
          "text": [
            "Cloning into 'digitalclone-backend'...\n",
            "remote: Enumerating objects: 520, done.\u001b[K\n",
            "remote: Counting objects: 100% (31/31), done.\u001b[K\n",
            "remote: Compressing objects: 100% (31/31), done.\u001b[K\n",
            "remote: Total 520 (delta 3), reused 9 (delta 0), pack-reused 489\u001b[K\n",
            "Receiving objects: 100% (520/520), 43.93 MiB | 61.29 MiB/s, done.\n",
            "Resolving deltas: 100% (190/190), done.\n"
          ]
        }
      ],
      "source": [
        "!git clone https://github.com/hantswilliams/digitalclone-backend.git"
      ]
    },
    {
      "cell_type": "code",
      "source": [],
      "metadata": {
        "id": "lq_YnhB1UdA9"
      },
      "execution_count": null,
      "outputs": []
    },
    {
      "cell_type": "code",
      "execution_count": 5,
      "metadata": {
        "colab": {
          "base_uri": "https://localhost:8080/"
        },
        "id": "hdU7Q4npDvYW",
        "outputId": "71a29510-ffa6-427d-a898-869e07c91b6a"
      },
      "outputs": [
        {
          "output_type": "stream",
          "name": "stdout",
          "text": [
            "Already up to date.\n"
          ]
        }
      ],
      "source": [
        "!cd digitalclone-backend/ && git pull"
      ]
    },
    {
      "cell_type": "code",
      "execution_count": 18,
      "metadata": {
        "id": "_TWFBSCTIQ_3"
      },
      "outputs": [],
      "source": [
        "location_metaData = \"/content/digitalclone-backend/aws_jobs_voiceclone/tts_tests/testdata2/metaData_list_all.txt\"\n",
        "dataset_path_raw = \"/content/digitalclone-backend/aws_jobs_voiceclone/tts_tests/testdata2/raw\"\n",
        "dataset_path_clean = \"/content/digitalclone-backend/aws_jobs_voiceclone/tts_tests/testdata2/clean/wavs\"\n",
        "dataset_path = \"/content/digitalclone-backend/aws_jobs_voiceclone/tts_tests/testdata2/clean/\"\n",
        "output_path = \"/content/trainoutput\""
      ]
    },
    {
      "cell_type": "code",
      "execution_count": 19,
      "metadata": {
        "colab": {
          "base_uri": "https://localhost:8080/"
        },
        "id": "6q77_fwOKQuB",
        "outputId": "e0fb1110-1763-4395-e319-d291e0332385"
      },
      "outputs": [
        {
          "output_type": "stream",
          "name": "stdout",
          "text": [
            "audiofiles...: ['list8-q3_1671048214796.wav', 'list4-q2_1671048494898.wav', 'list9-q1_1671048110495.wav', 'list4-q4_1671048504109.wav', 'list1-q8_1671048704560.wav', 'list3-q3_1671048556054.wav', 'list7-q9_1671048323379.wav', 'list5-q6_1671048454713.wav', 'list2-q3_1671048619283.wav', 'list6-q4_1671048372452.wav', 'list1-q9_1671048709584.wav', 'list8-q4_1671048220444.wav', 'list4-q3_1671048499833.wav', 'list9-q10_1671048175898.wav', 'list3-q2_1671048550054.wav', 'list5-q1_1671048425822.wav', 'list2-q8_1671048645021.wav', 'list6-q8_1671048402936.wav', 'list2-q4_1671048624226.wav', 'list5-q3_1671048436469.wav', 'list7-q5_1671048299610.wav', 'list6-q6_1671048382963.wav', 'list3-q9_1671048592548.wav', 'list2-q7_1671048639737.wav', 'list1-q3_1671048679438.wav', 'list9-q3_1671048131818.wav', 'list1-q4_1671048684115.wav', 'list7-q8_1671048317827.wav', 'list7-q2_1671048283567.wav', 'list1-q5_1671048689804.wav', 'list1-q7_1671048699715.wav', 'list3-q1_1671048544906.wav', 'list9-q8_1671048159979.wav', 'list5-q10_1671048474489.wav', 'list3-q4_1671048565887.wav', 'list7-q6_1671048305656.wav', 'list9-q6_1671048149356.wav', 'list8-q5_1671048226434.wav', 'list4-q8_1671048523723.wav', 'list5-q9_1671048469754.wav', 'list9-q4_1671048138137.wav', 'list7-q3_1671048289013.wav', 'list7-q1_1671048277653.wav', 'list8-q9_1671048256489.wav', 'list3-q8_1671048586858.wav', 'list2-q5_1671048628968.wav', 'list8-q7_1671048237657.wav', 'list8-q1_1671048198938.wav', 'list7-q7_1671048312079.wav', 'list6-q7_1671048392749.wav', 'list5-q7_1671048460304.wav', 'list3-q10_1671048597830.wav', 'list6-q5_1671048377678.wav', 'list1-q2_1671048674867.wav', 'list2-q2_1671048613796.wav', 'list5-q4_1671048441252.wav', 'list3-q5_1671048571106.wav', 'list4-q7_1671048518891.wav', 'list4-q5_1671048508739.wav', 'list2-q1_1671048608899.wav', 'list6-q2_1671048346374.wav', 'list8-q10_1671048262306.wav', 'list5-q8_1671048464836.wav', 'list6-q3_1671048363261.wav', 'list4-q10_1671048532914.wav', 'list8-q2_1671048204618.wav', 'list9-q7_1671048154458.wav', 'list8-q6_1671048231668.wav', 'list2-q9_1671048650200.wav', 'list6-q1_1671048341158.wav', 'list5-q2_1671048431591.wav', 'list6-q9_1671048409071.wav', 'list7-q4_1671048294544.wav', 'list1-q6_1671048694496.wav', 'list9-q9_1671048170127.wav', 'list5-q5_1671048450103.wav', 'list4-q6_1671048513802.wav', 'list7-q10_1671048329197.wav', 'list4-q1_1671048490053.wav', 'list2-q10_1671048659992.wav', 'list6-q10_1671048414404.wav', 'list3-q6_1671048576082.wav', 'list8-q8_1671048249486.wav', 'list1-q1_1671048670269.wav', 'list9-q5_1671048143792.wav', 'list4-q9_1671048528487.wav', 'list9-q2_1671048126153.wav', 'list2-q6_1671048634089.wav', 'list3-q7_1671048581331.wav', 'list1-q10_1671048714844.wav']\n"
          ]
        }
      ],
      "source": [
        "# get list of files in audiofiles/wavs\n",
        "audiofiles_raw = os.listdir(dataset_path_raw)\n",
        "print('audiofiles...:', audiofiles_raw)\n"
      ]
    },
    {
      "cell_type": "code",
      "execution_count": 8,
      "metadata": {
        "colab": {
          "base_uri": "https://localhost:8080/"
        },
        "id": "Jiy1ksGiKbwe",
        "outputId": "a8198bd0-2c22-4875-c220-ba9f89ec9ec5"
      },
      "outputs": [
        {
          "output_type": "stream",
          "name": "stdout",
          "text": [
            "converted list8-q3_1671048214796.wav to 16000\n",
            "converted list4-q2_1671048494898.wav to 16000\n",
            "converted list9-q1_1671048110495.wav to 16000\n",
            "converted list4-q4_1671048504109.wav to 16000\n",
            "converted list1-q8_1671048704560.wav to 16000\n",
            "converted list3-q3_1671048556054.wav to 16000\n",
            "converted list7-q9_1671048323379.wav to 16000\n",
            "converted list5-q6_1671048454713.wav to 16000\n",
            "converted list2-q3_1671048619283.wav to 16000\n",
            "converted list6-q4_1671048372452.wav to 16000\n",
            "converted list1-q9_1671048709584.wav to 16000\n",
            "converted list8-q4_1671048220444.wav to 16000\n",
            "converted list4-q3_1671048499833.wav to 16000\n",
            "converted list9-q10_1671048175898.wav to 16000\n",
            "converted list3-q2_1671048550054.wav to 16000\n",
            "converted list5-q1_1671048425822.wav to 16000\n",
            "converted list2-q8_1671048645021.wav to 16000\n",
            "converted list6-q8_1671048402936.wav to 16000\n",
            "converted list2-q4_1671048624226.wav to 16000\n",
            "converted list5-q3_1671048436469.wav to 16000\n",
            "converted list7-q5_1671048299610.wav to 16000\n",
            "converted list6-q6_1671048382963.wav to 16000\n",
            "converted list3-q9_1671048592548.wav to 16000\n",
            "converted list2-q7_1671048639737.wav to 16000\n",
            "converted list1-q3_1671048679438.wav to 16000\n",
            "converted list9-q3_1671048131818.wav to 16000\n",
            "converted list1-q4_1671048684115.wav to 16000\n",
            "converted list7-q8_1671048317827.wav to 16000\n",
            "converted list7-q2_1671048283567.wav to 16000\n",
            "converted list1-q5_1671048689804.wav to 16000\n",
            "converted list1-q7_1671048699715.wav to 16000\n",
            "converted list3-q1_1671048544906.wav to 16000\n",
            "converted list9-q8_1671048159979.wav to 16000\n",
            "converted list5-q10_1671048474489.wav to 16000\n",
            "converted list3-q4_1671048565887.wav to 16000\n",
            "converted list7-q6_1671048305656.wav to 16000\n",
            "converted list9-q6_1671048149356.wav to 16000\n",
            "converted list8-q5_1671048226434.wav to 16000\n",
            "converted list4-q8_1671048523723.wav to 16000\n",
            "converted list5-q9_1671048469754.wav to 16000\n",
            "converted list9-q4_1671048138137.wav to 16000\n",
            "converted list7-q3_1671048289013.wav to 16000\n",
            "converted list7-q1_1671048277653.wav to 16000\n",
            "converted list8-q9_1671048256489.wav to 16000\n",
            "converted list3-q8_1671048586858.wav to 16000\n",
            "converted list2-q5_1671048628968.wav to 16000\n",
            "converted list8-q7_1671048237657.wav to 16000\n",
            "converted list8-q1_1671048198938.wav to 16000\n",
            "converted list7-q7_1671048312079.wav to 16000\n",
            "converted list6-q7_1671048392749.wav to 16000\n",
            "converted list5-q7_1671048460304.wav to 16000\n",
            "converted list3-q10_1671048597830.wav to 16000\n",
            "converted list6-q5_1671048377678.wav to 16000\n",
            "converted list1-q2_1671048674867.wav to 16000\n",
            "converted list2-q2_1671048613796.wav to 16000\n",
            "converted list5-q4_1671048441252.wav to 16000\n",
            "converted list3-q5_1671048571106.wav to 16000\n",
            "converted list4-q7_1671048518891.wav to 16000\n",
            "converted list4-q5_1671048508739.wav to 16000\n",
            "converted list2-q1_1671048608899.wav to 16000\n",
            "converted list6-q2_1671048346374.wav to 16000\n",
            "converted list8-q10_1671048262306.wav to 16000\n",
            "converted list5-q8_1671048464836.wav to 16000\n",
            "converted list6-q3_1671048363261.wav to 16000\n",
            "converted list4-q10_1671048532914.wav to 16000\n",
            "converted list8-q2_1671048204618.wav to 16000\n",
            "converted list9-q7_1671048154458.wav to 16000\n",
            "converted list8-q6_1671048231668.wav to 16000\n",
            "converted list2-q9_1671048650200.wav to 16000\n",
            "converted list6-q1_1671048341158.wav to 16000\n",
            "converted list5-q2_1671048431591.wav to 16000\n",
            "converted list6-q9_1671048409071.wav to 16000\n",
            "converted list7-q4_1671048294544.wav to 16000\n",
            "converted list1-q6_1671048694496.wav to 16000\n",
            "converted list9-q9_1671048170127.wav to 16000\n",
            "converted list5-q5_1671048450103.wav to 16000\n",
            "converted list4-q6_1671048513802.wav to 16000\n",
            "converted list7-q10_1671048329197.wav to 16000\n",
            "converted list4-q1_1671048490053.wav to 16000\n",
            "converted list2-q10_1671048659992.wav to 16000\n",
            "converted list6-q10_1671048414404.wav to 16000\n",
            "converted list3-q6_1671048576082.wav to 16000\n",
            "converted list8-q8_1671048249486.wav to 16000\n",
            "converted list1-q1_1671048670269.wav to 16000\n",
            "converted list9-q5_1671048143792.wav to 16000\n",
            "converted list4-q9_1671048528487.wav to 16000\n",
            "converted list9-q2_1671048126153.wav to 16000\n",
            "converted list2-q6_1671048634089.wav to 16000\n",
            "converted list3-q7_1671048581331.wav to 16000\n",
            "converted list1-q10_1671048714844.wav to 16000\n"
          ]
        }
      ],
      "source": [
        "# loop through each file in audiofiles/wavs and convert to 22050\n",
        "for file in audiofiles_raw:\n",
        "    # get file name\n",
        "    filename = file.split(\".\")[0]\n",
        "    # get file extension\n",
        "    fileext = file.split(\".\")[1]\n",
        "    # create command to convert file to 22050\n",
        "    command = \"ffmpeg -i \" + dataset_path_raw + \"/\" + file + \" -ar 16000 -ac 1 \" + dataset_path_clean + \"/\" + filename + '.' + fileext + \" -y\"\n",
        "    # run command\n",
        "    os.system(command)\n",
        "    # print\n",
        "    print(\"converted \" + file + \" to 16000\")"
      ]
    },
    {
      "cell_type": "code",
      "execution_count": 20,
      "metadata": {
        "id": "Q78X08hUKiRB"
      },
      "outputs": [],
      "source": [
        "tpower = 1.3\n",
        "tpreemphasis = 0.98\n",
        "tdb = 20\n",
        "######################\n",
        "\n",
        "\n",
        "dataset_config = BaseDatasetConfig(\n",
        "    formatter=\"ljspeech\", meta_file_train=location_metaData, path=os.path.join(output_path, dataset_path)\n",
        ")\n",
        "\n",
        "audio_config = BaseAudioConfig(\n",
        "    sample_rate=16000, \n",
        "    win_length=1024, \n",
        "    hop_length=256, \n",
        "    num_mels=80, \n",
        "    mel_fmin=0, \n",
        "    mel_fmax=None, \n",
        "    power=tpower,\n",
        "    preemphasis=tpreemphasis,\n",
        "    ref_level_db=tdb\n",
        ")\n",
        "\n",
        "config = VitsConfig(\n",
        "    audio=audio_config,\n",
        "    run_name=\"vits_ljspeech\",\n",
        "    batch_size=32,\n",
        "    eval_batch_size=16,\n",
        "    batch_group_size=5,\n",
        "    num_loader_workers=8,\n",
        "    num_eval_loader_workers=4,\n",
        "    run_eval=True,\n",
        "    test_delay_epochs=-1,\n",
        "    epochs=1000,\n",
        "    text_cleaner=\"english_cleaners\",\n",
        "    use_phonemes=True,\n",
        "    phoneme_language=\"en-us\",\n",
        "    phoneme_cache_path=os.path.join(output_path, \"phoneme_cache\"),\n",
        "    compute_input_seq_cache=True,\n",
        "    print_step=25,\n",
        "    print_eval=True,\n",
        "    mixed_precision=True,\n",
        "    output_path=output_path,\n",
        "    datasets=[dataset_config],\n",
        "    cudnn_benchmark=False\n",
        ")"
      ]
    },
    {
      "cell_type": "code",
      "execution_count": null,
      "metadata": {
        "id": "WsAHcms4Kmpi"
      },
      "outputs": [],
      "source": [
        "train_samples, eval_samples = load_tts_samples(\n",
        "    dataset_config,\n",
        "    eval_split=True,\n",
        "    eval_split_max_size=config.eval_split_max_size,\n",
        "    # eval_split_size=config.eval_split_size\n",
        "    eval_split_size=0.1\n",
        ")\n",
        "\n",
        "ap = AudioProcessor.init_from_config(config)\n",
        "tokenizer, config = TTSTokenizer.init_from_config(config)\n",
        "model = Vits(config, ap, tokenizer, speaker_manager=None)"
      ]
    },
    {
      "cell_type": "code",
      "execution_count": null,
      "metadata": {
        "id": "COMBB1P1K8fx"
      },
      "outputs": [],
      "source": [
        "trainer = Trainer(\n",
        "    TrainerArgs(), config, output_path, model=model, train_samples=train_samples, eval_samples=eval_samples\n",
        ")\n",
        "\n",
        "trainer.fit()"
      ]
    },
    {
      "cell_type": "code",
      "execution_count": null,
      "metadata": {
        "id": "lrLe0m9ELwWp"
      },
      "outputs": [],
      "source": [
        "## test it!"
      ]
    },
    {
      "cell_type": "code",
      "execution_count": null,
      "metadata": {
        "id": "88nFU7l8Wpdt"
      },
      "outputs": [],
      "source": [
        "!tts --text \"this is my new voice, lets see how it works. Maybe it does not sound like me.\" \\\n",
        "      --model_path '/content/trainoutput/vits_ljspeech-December-17-2022_12+05AM-0000000/best_model_300.pth' \\\n",
        "      --config_path '/content/trainoutput/vits_ljspeech-December-17-2022_12+05AM-0000000/config.json' \\\n",
        "      --out_path 'out.wav'"
      ]
    },
    {
      "cell_type": "code",
      "execution_count": null,
      "metadata": {
        "id": "XPqSkGyoXSQg"
      },
      "outputs": [],
      "source": []
    }
  ],
  "metadata": {
    "accelerator": "GPU",
    "colab": {
      "machine_shape": "hm",
      "provenance": []
    },
    "gpuClass": "premium",
    "kernelspec": {
      "display_name": "Python 3.10.0 64-bit ('3.10.0')",
      "language": "python",
      "name": "python3"
    },
    "language_info": {
      "name": "python",
      "version": "3.10.0"
    },
    "vscode": {
      "interpreter": {
        "hash": "a5a4724f03e3568cd1cf481694d37f5ccbbd850c172cad9556ffa1f6fa76a86d"
      }
    }
  },
  "nbformat": 4,
  "nbformat_minor": 0
}